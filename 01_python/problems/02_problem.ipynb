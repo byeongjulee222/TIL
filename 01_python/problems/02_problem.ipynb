{
 "cells": [
  {
   "cell_type": "markdown",
   "metadata": {},
   "source": [
    "# 과일 개수 골라내기\n",
    "\n",
    "> 장바구니에 아래와 같은 과일이 들어있고 과일 판별 리스트가 있습니다.\n",
    "\n",
    "```python\n",
    "basket_items = {'apples': 4, 'oranges': 19, 'kites': 3, 'sandwiches': 8}\n",
    "\n",
    "fruits = ['apples', 'oranges', 'pears', 'peaches', 'grapes', 'bananas']\n",
    "\n",
    "```\n",
    "> 현재 장바구니에는 과일이 몇개이고 과일이 아닌 것은 몇개인지 출력하시오.\n",
    "---\n",
    "```\n",
    "예시 출력)\n",
    "과일은 23개이고, 11개는 과일이 아닙니다..\n",
    "```"
   ]
  },
  {
   "cell_type": "code",
   "execution_count": 9,
   "metadata": {},
   "outputs": [],
   "source": [
    "basket_items = {'apples': 4, 'oranges': 19, 'kites': 3, 'sandwiches': 8}\n",
    "fruits = ['apples', 'oranges', 'pears', 'peaches', 'grapes', 'bananas']\n",
    "# 아래에 코드를 작성하세요."
   ]
  },
  {
   "cell_type": "code",
   "execution_count": 11,
   "metadata": {},
   "outputs": [
    {
     "name": "stdout",
     "output_type": "stream",
     "text": [
      "과일은 23개이고, 11개는 과일이 아닙니다..\n"
     ]
    }
   ],
   "source": [
    "fruits_num = 0\n",
    "not_fruits = 0\n",
    "for i in basket_items:\n",
    "    if i in fruits:\n",
    "        fruits_num += basket_items[i]\n",
    "    else:\n",
    "        not_fruits += basket_items[i]\n",
    "print(f'과일은 {fruits_num}개이고, {not_fruits}개는 과일이 아닙니다..')"
   ]
  },
  {
   "cell_type": "markdown",
   "metadata": {},
   "source": [
    "# 영어 이름 출력하기 \n",
    "\n",
    "> 영어 이름은 가운데 이름을 가지고 있는 경우가 있습니다.\n",
    ">\n",
    "> 가운데 이름은 대문자로 축약해서 나타내는 코드를 작성해보세요.\n",
    "\n",
    "---\n",
    "```\n",
    "예시 입력)\n",
    "Alice Betty Catherine Davis\n",
    "```\n",
    "```\n",
    "예시 출력)\n",
    "Alice B. C. Davis\n",
    "```"
   ]
  },
  {
   "cell_type": "code",
   "execution_count": null,
   "metadata": {},
   "outputs": [],
   "source": [
    "# 아래에 코드를 작성하세요."
   ]
  },
  {
   "cell_type": "code",
   "execution_count": 67,
   "metadata": {},
   "outputs": [
    {
     "name": "stdout",
     "output_type": "stream",
     "text": [
      "Alice Betty Catherine Davis\n",
      "Alice B. C. Davis "
     ]
    }
   ],
   "source": [
    "name = input()\n",
    "name_list = name.split(' ')\n",
    "\n",
    "for i in name_list:\n",
    "    if i == name_list[0] or i == name_list[len(name_list)-1]:\n",
    "        print(i, end=' ')\n",
    "    else:\n",
    "        print(f'{i[0]}.', end=' ')"
   ]
  },
  {
   "cell_type": "markdown",
   "metadata": {},
   "source": [
    "# 구구단 출력하기\n",
    "> 2단부터 9단까지 반복문을 사용하여 구구단을 출력하세요.\n",
    "---\n",
    "```\n",
    "예시 출력)\n",
    "------- [2 단] -------\n",
    "2 X 1 = 2\n",
    "2 X 2 = 4\n",
    "2 X 3 = 6\n",
    "2 X 4 = 8\n",
    "2 X 5 = 10\n",
    "2 X 6 = 12\n",
    "2 X 7 = 14\n",
    "2 X 8 = 16\n",
    "2 X 9 = 18\n",
    "\n",
    "------- [3 단] -------\n",
    "...\n",
    "```"
   ]
  },
  {
   "cell_type": "code",
   "execution_count": null,
   "metadata": {},
   "outputs": [],
   "source": [
    "# 아래에 코드를 작성하세요."
   ]
  },
  {
   "cell_type": "code",
   "execution_count": 1,
   "metadata": {},
   "outputs": [
    {
     "name": "stdout",
     "output_type": "stream",
     "text": [
      "\n",
      "-------[2 단]-------\n",
      "2 X 1 = 2\n",
      "2 X 2 = 4\n",
      "2 X 3 = 6\n",
      "2 X 4 = 8\n",
      "2 X 5 = 10\n",
      "2 X 6 = 12\n",
      "2 X 7 = 14\n",
      "2 X 8 = 16\n",
      "2 X 9 = 18\n",
      "\n",
      "-------[3 단]-------\n",
      "3 X 1 = 3\n",
      "3 X 2 = 6\n",
      "3 X 3 = 9\n",
      "3 X 4 = 12\n",
      "3 X 5 = 15\n",
      "3 X 6 = 18\n",
      "3 X 7 = 21\n",
      "3 X 8 = 24\n",
      "3 X 9 = 27\n",
      "\n",
      "-------[4 단]-------\n",
      "4 X 1 = 4\n",
      "4 X 2 = 8\n",
      "4 X 3 = 12\n",
      "4 X 4 = 16\n",
      "4 X 5 = 20\n",
      "4 X 6 = 24\n",
      "4 X 7 = 28\n",
      "4 X 8 = 32\n",
      "4 X 9 = 36\n",
      "\n",
      "-------[5 단]-------\n",
      "5 X 1 = 5\n",
      "5 X 2 = 10\n",
      "5 X 3 = 15\n",
      "5 X 4 = 20\n",
      "5 X 5 = 25\n",
      "5 X 6 = 30\n",
      "5 X 7 = 35\n",
      "5 X 8 = 40\n",
      "5 X 9 = 45\n",
      "\n",
      "-------[6 단]-------\n",
      "6 X 1 = 6\n",
      "6 X 2 = 12\n",
      "6 X 3 = 18\n",
      "6 X 4 = 24\n",
      "6 X 5 = 30\n",
      "6 X 6 = 36\n",
      "6 X 7 = 42\n",
      "6 X 8 = 48\n",
      "6 X 9 = 54\n",
      "\n",
      "-------[7 단]-------\n",
      "7 X 1 = 7\n",
      "7 X 2 = 14\n",
      "7 X 3 = 21\n",
      "7 X 4 = 28\n",
      "7 X 5 = 35\n",
      "7 X 6 = 42\n",
      "7 X 7 = 49\n",
      "7 X 8 = 56\n",
      "7 X 9 = 63\n",
      "\n",
      "-------[8 단]-------\n",
      "8 X 1 = 8\n",
      "8 X 2 = 16\n",
      "8 X 3 = 24\n",
      "8 X 4 = 32\n",
      "8 X 5 = 40\n",
      "8 X 6 = 48\n",
      "8 X 7 = 56\n",
      "8 X 8 = 64\n",
      "8 X 9 = 72\n",
      "\n",
      "-------[9 단]-------\n",
      "9 X 1 = 9\n",
      "9 X 2 = 18\n",
      "9 X 3 = 27\n",
      "9 X 4 = 36\n",
      "9 X 5 = 45\n",
      "9 X 6 = 54\n",
      "9 X 7 = 63\n",
      "9 X 8 = 72\n",
      "9 X 9 = 81\n"
     ]
    }
   ],
   "source": [
    "for i in range(2, 10):\n",
    "    print(f'\\n-------[{i} 단]-------')\n",
    "    for j in range(1, 10):\n",
    "        print(f'{i} X {j} = {i*j}')"
   ]
  },
  {
   "cell_type": "markdown",
   "metadata": {},
   "source": [
    "# 달력 출력하기\n",
    "\n",
    "> 1월 1일 월요일부터 12월 31일까지 달력을 출력하세요.\n",
    "\n",
    "---\n",
    "```\n",
    "예시 출력)\n",
    "         1 월\n",
    "Mo Tu We Th Fr Sa Su \n",
    " 1  2  3  4  5  6  7 \n",
    " 8  9 10 11 12 13 14 \n",
    "15 16 17 18 19 20 21 \n",
    "22 23 24 25 26 27 28 \n",
    "29 30 31 \n",
    "         2 월\n",
    "Mo Tu We Th Fr Sa Su \n",
    " 1  2  3  4  5  6  7 \n",
    " 8  9 10 11 12 13 14 \n",
    "15 16 17 18 19 20 21 \n",
    "22 23 24 25 26 27 28 \n",
    "\n",
    "         3 월\n",
    "Mo Tu We Th Fr Sa Su \n",
    " 1  2  3  4  5  6  7 \n",
    " 8  9 10 11 12 13 14 \n",
    "15 16 17 18 19 20 21 \n",
    "22 23 24 25 26 27 28 \n",
    "29 30 31\n",
    "...\n",
    "```"
   ]
  },
  {
   "cell_type": "code",
   "execution_count": 24,
   "metadata": {},
   "outputs": [],
   "source": [
    "calendar = { \n",
    "        1: 31, 2: 28, 3: 31, 4: 30, 5: 31,6: 30, \n",
    "        7: 31, 8: 31, 9: 30, 10: 31, 11: 30, 12: 31 \n",
    "} \n",
    "weeks = ['Mo', 'Tu', 'We', 'Th', 'Fr', 'Sa', 'Su'] \n",
    "# 아래에 코드를 작성하세요."
   ]
  },
  {
   "cell_type": "code",
   "execution_count": 90,
   "metadata": {},
   "outputs": [
    {
     "name": "stdout",
     "output_type": "stream",
     "text": [
      "1월\n",
      "Mo 1 2 3 4 5 6 7 8 9 10 11 12 Tu 1 2 3 4 5 6 7 8 9 10 11 12 We 1 2 3 4 5 6 7 8 9 10 11 12 Th 1 2 3 4 5 6 7 8 9 10 11 12 Fr 1 2 3 4 5 6 7 8 9 10 11 12 Sa 1 2 3 4 5 6 7 8 9 10 11 12 Su\n",
      "1 2 3 4 5 6 7 8 9 10 11 12 2월\n",
      "Mo 1 2 3 4 5 6 7 8 9 10 11 12 Tu 1 2 3 4 5 6 7 8 9 10 11 12 We 1 2 3 4 5 6 7 8 9 10 11 12 Th 1 2 3 4 5 6 7 8 9 10 11 12 Fr 1 2 3 4 5 6 7 8 9 10 11 12 Sa 1 2 3 4 5 6 7 8 9 10 11 12 Su\n",
      "1 2 3 4 5 6 7 8 9 10 11 12 3월\n",
      "Mo 1 2 3 4 5 6 7 8 9 10 11 12 Tu 1 2 3 4 5 6 7 8 9 10 11 12 We 1 2 3 4 5 6 7 8 9 10 11 12 Th 1 2 3 4 5 6 7 8 9 10 11 12 Fr 1 2 3 4 5 6 7 8 9 10 11 12 Sa 1 2 3 4 5 6 7 8 9 10 11 12 Su\n",
      "1 2 3 4 5 6 7 8 9 10 11 12 4월\n",
      "Mo 1 2 3 4 5 6 7 8 9 10 11 12 Tu 1 2 3 4 5 6 7 8 9 10 11 12 We 1 2 3 4 5 6 7 8 9 10 11 12 Th 1 2 3 4 5 6 7 8 9 10 11 12 Fr 1 2 3 4 5 6 7 8 9 10 11 12 Sa 1 2 3 4 5 6 7 8 9 10 11 12 Su\n",
      "1 2 3 4 5 6 7 8 9 10 11 12 5월\n",
      "Mo 1 2 3 4 5 6 7 8 9 10 11 12 Tu 1 2 3 4 5 6 7 8 9 10 11 12 We 1 2 3 4 5 6 7 8 9 10 11 12 Th 1 2 3 4 5 6 7 8 9 10 11 12 Fr 1 2 3 4 5 6 7 8 9 10 11 12 Sa 1 2 3 4 5 6 7 8 9 10 11 12 Su\n",
      "1 2 3 4 5 6 7 8 9 10 11 12 6월\n",
      "Mo 1 2 3 4 5 6 7 8 9 10 11 12 Tu 1 2 3 4 5 6 7 8 9 10 11 12 We 1 2 3 4 5 6 7 8 9 10 11 12 Th 1 2 3 4 5 6 7 8 9 10 11 12 Fr 1 2 3 4 5 6 7 8 9 10 11 12 Sa 1 2 3 4 5 6 7 8 9 10 11 12 Su\n",
      "1 2 3 4 5 6 7 8 9 10 11 12 7월\n",
      "Mo 1 2 3 4 5 6 7 8 9 10 11 12 Tu 1 2 3 4 5 6 7 8 9 10 11 12 We 1 2 3 4 5 6 7 8 9 10 11 12 Th 1 2 3 4 5 6 7 8 9 10 11 12 Fr 1 2 3 4 5 6 7 8 9 10 11 12 Sa 1 2 3 4 5 6 7 8 9 10 11 12 Su\n",
      "1 2 3 4 5 6 7 8 9 10 11 12 8월\n",
      "Mo 1 2 3 4 5 6 7 8 9 10 11 12 Tu 1 2 3 4 5 6 7 8 9 10 11 12 We 1 2 3 4 5 6 7 8 9 10 11 12 Th 1 2 3 4 5 6 7 8 9 10 11 12 Fr 1 2 3 4 5 6 7 8 9 10 11 12 Sa 1 2 3 4 5 6 7 8 9 10 11 12 Su\n",
      "1 2 3 4 5 6 7 8 9 10 11 12 9월\n",
      "Mo 1 2 3 4 5 6 7 8 9 10 11 12 Tu 1 2 3 4 5 6 7 8 9 10 11 12 We 1 2 3 4 5 6 7 8 9 10 11 12 Th 1 2 3 4 5 6 7 8 9 10 11 12 Fr 1 2 3 4 5 6 7 8 9 10 11 12 Sa 1 2 3 4 5 6 7 8 9 10 11 12 Su\n",
      "1 2 3 4 5 6 7 8 9 10 11 12 10월\n",
      "Mo 1 2 3 4 5 6 7 8 9 10 11 12 Tu 1 2 3 4 5 6 7 8 9 10 11 12 We 1 2 3 4 5 6 7 8 9 10 11 12 Th 1 2 3 4 5 6 7 8 9 10 11 12 Fr 1 2 3 4 5 6 7 8 9 10 11 12 Sa 1 2 3 4 5 6 7 8 9 10 11 12 Su\n",
      "1 2 3 4 5 6 7 8 9 10 11 12 11월\n",
      "Mo 1 2 3 4 5 6 7 8 9 10 11 12 Tu 1 2 3 4 5 6 7 8 9 10 11 12 We 1 2 3 4 5 6 7 8 9 10 11 12 Th 1 2 3 4 5 6 7 8 9 10 11 12 Fr 1 2 3 4 5 6 7 8 9 10 11 12 Sa 1 2 3 4 5 6 7 8 9 10 11 12 Su\n",
      "1 2 3 4 5 6 7 8 9 10 11 12 12월\n",
      "Mo 1 2 3 4 5 6 7 8 9 10 11 12 Tu 1 2 3 4 5 6 7 8 9 10 11 12 We 1 2 3 4 5 6 7 8 9 10 11 12 Th 1 2 3 4 5 6 7 8 9 10 11 12 Fr 1 2 3 4 5 6 7 8 9 10 11 12 Sa 1 2 3 4 5 6 7 8 9 10 11 12 Su\n",
      "1 2 3 4 5 6 7 8 9 10 11 12 "
     ]
    }
   ],
   "source": [
    "for month in calendar:\n",
    "    print(f'{month}월')\n",
    "    for yoil in weeks:\n",
    "        if yoil == 'Su':\n",
    "            print(yoil, end ='\\n')\n",
    "        else:\n",
    "            print(yoil, end=' ')\n",
    "        \n",
    "        for days in calendar:\n",
    "                print(days, end=' ')"
   ]
  },
  {
   "cell_type": "markdown",
   "metadata": {},
   "source": [
    "# 개인정보보호\n",
    "> 사용자의 핸드폰번호를 입력 받으려고한다. 개인정보 보호를 위하여 뒷자리 4자리를 제외하고는 마스킹 처리를 하려고한다.\n",
    ">\n",
    "> 핸드폰번호는 010으로 시작해야하고 11자리여야한다. 핸드폰번호를 입력하지 않았다면 \"핸드폰번호를 입력하세요\"를 출력한다\n",
    "\n",
    "```\n",
    "예시 입력)\n",
    "01012341234\n",
    "예시 출력)\n",
    "*******1234\n",
    "```"
   ]
  },
  {
   "cell_type": "code",
   "execution_count": null,
   "metadata": {},
   "outputs": [],
   "source": [
    "# 아래에 코드를 작성하세요."
   ]
  },
  {
   "cell_type": "code",
   "execution_count": 66,
   "metadata": {},
   "outputs": [
    {
     "name": "stdout",
     "output_type": "stream",
     "text": [
      "01011111111\n",
      "*******1111\n"
     ]
    }
   ],
   "source": [
    "num = input()\n",
    "if len(num) == 11:\n",
    "    num_slicing = num[7:11]\n",
    "    print(f'*******{num_slicing}')\n",
    "else:\n",
    "    print('핸드폰번호를 입력하세요.')"
   ]
  },
  {
   "cell_type": "markdown",
   "metadata": {},
   "source": [
    "# 정중앙\n",
    "> 사용자가 입력한 문자열중 가운데 글자를 출력하라. 문자열이 짝수라면 가운데 두글자를 출력하라"
   ]
  },
  {
   "cell_type": "code",
   "execution_count": null,
   "metadata": {},
   "outputs": [],
   "source": [
    "# 아래에 코드를 작성하세요."
   ]
  },
  {
   "cell_type": "code",
   "execution_count": 63,
   "metadata": {},
   "outputs": [
    {
     "name": "stdout",
     "output_type": "stream",
     "text": [
      "asdb\n",
      "sd\n"
     ]
    }
   ],
   "source": [
    "word = input()\n",
    "if len(word) % 2:\n",
    "    print(word[len(word)//2])\n",
    "else:\n",
    "    print(word[len(word)//2-1]+word[len(word)//2])"
   ]
  },
  {
   "cell_type": "markdown",
   "metadata": {},
   "source": [
    "# 소수 찾기"
   ]
  },
  {
   "cell_type": "markdown",
   "metadata": {},
   "source": [
    "> 조건, 반복문을 응용하여 numbers 리스트의 요소들이 소수인지 아닌지 판단하는 코드를 작성하라.\n",
    "\n",
    "```python\n",
    "numbers = [26, 39, 51, 53, 57, 79, 85]\n",
    "\n",
    "# 출력 예시\n",
    "26 는 소수가 아닙니다. 2 는 26 의 인수입니다.\n",
    "39 는 소수가 아닙니다. 3 는 39 의 인수입니다.\n",
    "51 는 소수가 아닙니다. 3 는 51 의 인수입니다.\n",
    "53 는 소수입니다.\n",
    "57 는 소수가 아닙니다. 3 는 57 의 인수입니다.\n",
    "79 는 소수입니다.\n",
    "85 는 소수가 아닙니다. 5 는 85 의 인수입니다.\n",
    "```"
   ]
  },
  {
   "cell_type": "code",
   "execution_count": 68,
   "metadata": {},
   "outputs": [],
   "source": [
    "numbers = [26, 39, 51, 53, 57, 79, 85]\n",
    "# 아래에 코드를 작성하세요."
   ]
  },
  {
   "cell_type": "code",
   "execution_count": 91,
   "metadata": {},
   "outputs": [
    {
     "name": "stdout",
     "output_type": "stream",
     "text": [
      "26는 소수가 아닙니다. 2는 26의 인수입니다.\n",
      "39는 소수가 아닙니다. 3는 39의 인수입니다.\n",
      "51는 소수가 아닙니다. 3는 51의 인수입니다.\n",
      "53는 소수입니다.\n",
      "57는 소수가 아닙니다. 3는 57의 인수입니다.\n",
      "79는 소수입니다.\n",
      "85는 소수가 아닙니다. 5는 85의 인수입니다.\n"
     ]
    }
   ],
   "source": [
    "def prime_num(num):\n",
    "    for divisor in range(2,num):\n",
    "        if num % divisor is 0:\n",
    "            return False\n",
    "    return True\n",
    "\n",
    "for number in numbers:\n",
    "    if prime_num(number) == True:\n",
    "        print(f'{number}는 소수입니다.')\n",
    "    else:\n",
    "        for factor in range(2,number):\n",
    "                if number % factor-1 != 0:\n",
    "                        print(f'{number}는 소수가 아닙니다. {factor}는 {number}의 인수입니다.')\n",
    "                        break"
   ]
  },
  {
   "cell_type": "code",
   "execution_count": null,
   "metadata": {},
   "outputs": [],
   "source": []
  },
  {
   "cell_type": "code",
   "execution_count": null,
   "metadata": {},
   "outputs": [],
   "source": []
  },
  {
   "cell_type": "code",
   "execution_count": null,
   "metadata": {},
   "outputs": [],
   "source": []
  },
  {
   "cell_type": "code",
   "execution_count": null,
   "metadata": {},
   "outputs": [],
   "source": []
  },
  {
   "cell_type": "code",
   "execution_count": null,
   "metadata": {},
   "outputs": [],
   "source": []
  }
 ],
 "metadata": {
  "kernelspec": {
   "display_name": "Python 3",
   "language": "python",
   "name": "python3"
  },
  "language_info": {
   "codemirror_mode": {
    "name": "ipython",
    "version": 3
   },
   "file_extension": ".py",
   "mimetype": "text/x-python",
   "name": "python",
   "nbconvert_exporter": "python",
   "pygments_lexer": "ipython3",
   "version": "3.7.3"
  },
  "latex_envs": {
   "LaTeX_envs_menu_present": true,
   "autoclose": false,
   "autocomplete": true,
   "bibliofile": "biblio.bib",
   "cite_by": "apalike",
   "current_citInitial": 1,
   "eqLabelWithNumbers": true,
   "eqNumInitial": 1,
   "hotkeys": {
    "equation": "Ctrl-E",
    "itemize": "Ctrl-I"
   },
   "labels_anchors": false,
   "latex_user_defs": false,
   "report_style_numbering": false,
   "user_envs_cfg": false
  },
  "toc": {
   "base_numbering": 1,
   "nav_menu": {},
   "number_sections": true,
   "sideBar": true,
   "skip_h1_title": false,
   "title_cell": "Table of Contents",
   "title_sidebar": "Contents",
   "toc_cell": false,
   "toc_position": {},
   "toc_section_display": true,
   "toc_window_display": false
  }
 },
 "nbformat": 4,
 "nbformat_minor": 2
}
