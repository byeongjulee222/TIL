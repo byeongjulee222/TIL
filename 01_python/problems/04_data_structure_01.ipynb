{
 "cells": [
  {
   "cell_type": "markdown",
   "metadata": {},
   "source": [
    "# 소대소대\n",
    "\n",
    "> 단어의 짝수번째 알파벳은 대문자로, 홀수번째 알파벳은 소문자로 바꾼 문자열을 return 하는 함수 `up_and_low`을 작성하세요.\n",
    "\n",
    "예시)\n",
    "```python\n",
    "print(up_and_low('appleppie')) #=> aPpLePiE\n",
    "print(up_and_low('spaceship')) #=> sPaCeShIp\n",
    "```"
   ]
  },
  {
   "cell_type": "code",
   "execution_count": null,
   "metadata": {},
   "outputs": [],
   "source": [
    "# 여기에 코드를 작성하세요."
   ]
  },
  {
   "cell_type": "code",
   "execution_count": 56,
   "metadata": {},
   "outputs": [],
   "source": [
    "def up_and_low(word):\n",
    "    word_list = list(word)\n",
    "    for word_idx in range(len(word_list)):\n",
    "        if word_idx % 2:\n",
    "            word_list[word_idx] = word_list[word_idx].upper()\n",
    "        else:\n",
    "            word_list[word_idx] = word_list[word_idx].lower()\n",
    "    return ''.join(word_list)"
   ]
  },
  {
   "cell_type": "code",
   "execution_count": 57,
   "metadata": {},
   "outputs": [
    {
     "name": "stdout",
     "output_type": "stream",
     "text": [
      "aPpLePpIe\n",
      "sPaCeShIp\n"
     ]
    }
   ],
   "source": [
    "# 해당 코드를 통해 올바른 결과가 나오는지 확인하세요.\n",
    "print(up_and_low('appleppie'))\n",
    "print(up_and_low('spaceship'))"
   ]
  },
  {
   "cell_type": "markdown",
   "metadata": {},
   "source": [
    "# 통과한 시험\n",
    "\n",
    "> 딕셔너리 형태로 언어 및 각 테스트의 결과가 주어지면 테스트 점수가 60 이상인 언어 목록의 결과를 내림차순으로 정렬된 리스트를 반환하는 `passpass` 함수를 작성하세요. (중복되는 점수는 없습니다.)\n",
    "\n",
    "예시)\n",
    "\n",
    "```python\n",
    "passpass({'Java': 10, 'Ruby': 80, 'Python': 65}) #=> ['Ruby', 'Python']\n",
    "```"
   ]
  },
  {
   "cell_type": "code",
   "execution_count": null,
   "metadata": {},
   "outputs": [],
   "source": [
    "# 여기에 코드를 작성하세요."
   ]
  },
  {
   "cell_type": "code",
   "execution_count": 51,
   "metadata": {},
   "outputs": [],
   "source": [
    "def passpass(my_dict):\n",
    "    my_list = []\n",
    "    for key, val in my_dict.items():\n",
    "        if val >= 60:\n",
    "            my_list.append(key)          # 리스트에 value 조건을 만족하는 key값을 추가\n",
    "            my_list.sort(reverse=True)   # 정렬을 내림차순으로 : .sort(reverse=True)\n",
    "    return my_list"
   ]
  },
  {
   "cell_type": "code",
   "execution_count": 52,
   "metadata": {},
   "outputs": [
    {
     "name": "stdout",
     "output_type": "stream",
     "text": [
      "['Ruby', 'Python']\n"
     ]
    }
   ],
   "source": [
    "# 해당 코드를 통해 올바른 결과가 나오는지 확인하세요.\n",
    "print(passpass({'Java': 10, 'Ruby': 80, 'Python': 65}))"
   ]
  },
  {
   "cell_type": "markdown",
   "metadata": {},
   "source": [
    "# 삼각수\n",
    "\n",
    "> 삼각수는 1, 1+2, 1+2+3, 1+2+3+4, ... 의 결과에 해당하는 수를 뜻합니다. \n",
    ">\n",
    "> 따라서, 1, 3, 6, 10, 15, 21, 28, 36, 45, 55, 66, 78, 91, 105, 120,..는 삼각수입니다. \n",
    ">\n",
    "> 양의 정수를 입력받아 삼각수에 해당하는지 확인하는 `is_triangular`를 작성하세요.\n",
    "\n",
    "```python\n",
    "# 예시)\n",
    "print(is_triangular(5050))\n",
    "print(is_triangular(57))\n",
    "\n",
    "True\n",
    "False\n",
    "```"
   ]
  },
  {
   "cell_type": "code",
   "execution_count": null,
   "metadata": {},
   "outputs": [],
   "source": [
    "# 아래에 코드를 작성하세요."
   ]
  },
  {
   "cell_type": "code",
   "execution_count": 243,
   "metadata": {},
   "outputs": [
    {
     "name": "stdout",
     "output_type": "stream",
     "text": [
      "4\n",
      "True\n",
      "101\n",
      "True\n",
      "11\n",
      "False\n"
     ]
    }
   ],
   "source": [
    "# n번째 = n-1번째 + n\n",
    "# n번째 수\n",
    "\n",
    "def stair_num(num):\n",
    "    if num == 1:\n",
    "        return 1\n",
    "    elif num == 2:\n",
    "        return 3\n",
    "    else:\n",
    "        num = stair_num(num-1) + num\n",
    "        return num   \n",
    "        \n",
    "def is_triangular(tri_num):\n",
    "    a_list = []\n",
    "    count = 0\n",
    "    for i in range(1, tri_num):\n",
    "        a_list.append(stair_num(i))\n",
    "        count += 1\n",
    "        if a_list[-1] > tri_num:\n",
    "            break\n",
    "    print(count)\n",
    "    if tri_num in a_list:\n",
    "        return True\n",
    "    else:\n",
    "        return False\n",
    "    \n",
    "print(is_triangular(6))\n",
    "print(is_triangular(5050))\n",
    "print(is_triangular(57))"
   ]
  },
  {
   "cell_type": "code",
   "execution_count": 236,
   "metadata": {},
   "outputs": [],
   "source": [
    "def is_triangular(num):\n",
    "    result = 0\n",
    "    for i in range(1, num+1):\n",
    "        result += int(i)\n",
    "        if num == result:\n",
    "            return True\n",
    "    return False"
   ]
  },
  {
   "cell_type": "code",
   "execution_count": 237,
   "metadata": {},
   "outputs": [
    {
     "name": "stdout",
     "output_type": "stream",
     "text": [
      "True\n",
      "False\n"
     ]
    }
   ],
   "source": [
    "# 해당 코드를 통해 올바른 결과가 나오는지 확인하세요.\n",
    "print(is_triangular(5050))\n",
    "print(is_triangular(57))"
   ]
  },
  {
   "cell_type": "markdown",
   "metadata": {},
   "source": [
    "# 나만의 딕셔너리 생성기\n",
    "\n",
    "> key의 리스트와 value의 리스트로 딕셔너리를 생성하여 return 하는 `create_dict(keys, values)` 함수를 작성하세요.\n",
    ">\n",
    ">만약에 value의 갯수가 key의 갯수보다 부족한 경우, None을 채워 넣어야 합니다. 반대로 key의 갯수가 부족한 경우, 초과하는 value들은 무시해도 됩니다.\n",
    "\n",
    "```python\n",
    "# 예시)\n",
    "print(create_dict(['a', 'b', 'c', 'd'], [1, 2, 3]))\n",
    "print(create_dict(['a', 'b', 'c'], [1, 2, 3, 4]))\n",
    "\n",
    "{'a': 1, 'b': 2, 'c': 3, 'd': None}\n",
    "{'a': 1, 'b': 2, 'c': 3}\n",
    "```"
   ]
  },
  {
   "cell_type": "code",
   "execution_count": null,
   "metadata": {},
   "outputs": [],
   "source": [
    "# 아래에 코드를 작성하세요."
   ]
  },
  {
   "cell_type": "code",
   "execution_count": null,
   "metadata": {},
   "outputs": [],
   "source": [
    "from itertools import zip"
   ]
  },
  {
   "cell_type": "code",
   "execution_count": 212,
   "metadata": {},
   "outputs": [
    {
     "name": "stdout",
     "output_type": "stream",
     "text": [
      "{'a': 1, 'b': 2, 'c': 3, 'd': None}\n",
      "{'a': 1, 'b': 2, 'c': 3}\n"
     ]
    }
   ],
   "source": [
    "# from itertools import zip_longest 활용\n",
    "# return 형식(zip_longest(비교 리스트1, 비교 리스트2, fillvalue=채워넣을 값))\n",
    "# \n",
    "\n",
    "\n",
    "from itertools import zip_longest\n",
    "def create_dict(list1, list2):\n",
    "    result_dict = {}\n",
    "    if len(list1) >= len(list2):\n",
    "        return dict(zip_longest(list1, list2, fillvalue=None))\n",
    "    else:\n",
    "        for i in range(len(list1)):\n",
    "            result_dict[list1[i]] = list2[i]\n",
    "        return result_dict\n",
    "    \n",
    "print(create_dict(['a', 'b', 'c', 'd'], [1, 2, 3]))\n",
    "print(create_dict(['a', 'b', 'c'], [1, 2, 3, 4]))\n"
   ]
  },
  {
   "cell_type": "code",
   "execution_count": 216,
   "metadata": {
    "scrolled": true
   },
   "outputs": [],
   "source": [
    "def create_dict(list_a, list_b):\n",
    "    result_dict = {}\n",
    "    if len(list_a) > len(list_b):\n",
    "        for i in range(len(list_b)):\n",
    "            result_dict[list_a[i]] = list_b[i]\n",
    "        for l in range(len(list_b),len(list_a)):\n",
    "            result_dict[list_a[l]] = None\n",
    "    elif len(list_a) < len(list_b):\n",
    "        for j in range(len(list_a)):\n",
    "            result_dict[list_a[j]] = list_b[j]\n",
    "    else:\n",
    "        for k in range(len(list_a)):\n",
    "            result_dict[list_a[k]] = list_b[k]\n",
    "        \n",
    "        \n",
    "    return result_dict"
   ]
  },
  {
   "cell_type": "code",
   "execution_count": 217,
   "metadata": {},
   "outputs": [
    {
     "name": "stdout",
     "output_type": "stream",
     "text": [
      "{'a': 1, 'b': 2, 'c': 3, 'd': None}\n",
      "{'a': 1, 'b': 2, 'c': 3}\n"
     ]
    }
   ],
   "source": [
    "# 해당 코드를 통해 올바른 결과가 나오는지 확인하세요.\n",
    "print(create_dict(['a', 'b', 'c', 'd'], [1, 2, 3]))\n",
    "print(create_dict(['a', 'b', 'c'], [1, 2, 3, 4]))"
   ]
  },
  {
   "cell_type": "markdown",
   "metadata": {},
   "source": [
    "# 딕셔너리 뒤집기\n",
    "\n",
    "> 딕셔너리는 기본적으로 key와 value로 이뤄져있습니다. \n",
    ">\n",
    "> 딕셔너리를 입력받아 value와 key를 뒤집은 결과를 반환하는 `dict_invert`를 만들어봅시다. \n",
    "\n",
    "```python\n",
    "# 예시)\n",
    "print(dict_invert({1: 10, 2: 20, 3: 30}))\n",
    "print(dict_invert({1: 10, 2: 20, 3: 30, 4: 30}))\n",
    "print(dict_invert({1: True, 2: True, 3: True}))\n",
    "\n",
    "{10: [1], 20: [2], 30: [3]}\n",
    "{10: [1], 20: [2], 30: [3, 4]}\n",
    "{True: [1, 2, 3]}\n",
    "```"
   ]
  },
  {
   "cell_type": "code",
   "execution_count": null,
   "metadata": {},
   "outputs": [],
   "source": [
    "# 아래에 코드를 작성하세요."
   ]
  },
  {
   "cell_type": "code",
   "execution_count": 169,
   "metadata": {},
   "outputs": [],
   "source": [
    "def dict_invert(in_dict):\n",
    "    result = {}\n",
    "    for key, val in in_dict.items():\n",
    "        if val in result:\n",
    "            result[val] += [key]\n",
    "        else:\n",
    "            result[val] = [key]\n",
    "    return result"
   ]
  },
  {
   "cell_type": "code",
   "execution_count": 170,
   "metadata": {},
   "outputs": [
    {
     "name": "stdout",
     "output_type": "stream",
     "text": [
      "{10: [1], 20: [2], 30: [3]}\n",
      "{10: [1], 20: [2], 30: [3, 4]}\n",
      "{True: [1, 2, 3]}\n"
     ]
    }
   ],
   "source": [
    "# 해당 코드를 통해 올바른 결과가 나오는지 확인하세요.\n",
    "print(dict_invert({1: 10, 2: 20, 3: 30}))\n",
    "print(dict_invert({1: 10, 2: 20, 3: 30, 4: 30}))\n",
    "print(dict_invert({1: True, 2: True, 3: True}))"
   ]
  },
  {
   "cell_type": "markdown",
   "metadata": {},
   "source": [
    "# 시험 채점 시스템\n",
    "\n",
    "> 첫 번째 인자는 정답이 들어있는 리스트, 두 번째 인자는 사용자의 답이 들어있는 리스트입니다. 두 리스트는 비어있지 않으며 길이가 같습니다.\n",
    ">\n",
    "> 정답의 경우 +4점, 오답의 경우 -1점, 공백 응답(빈 문자열)의 경우 0점입니다. 만약, 점수가 0보다 작으면 0을 return 합니다.\n",
    ">\n",
    "> 위와 같이 시험 점수를 체크하는 함수 `check_score(real_answers, my_answers)` 을 작성하세요.\n",
    "\n",
    "\n",
    "\n",
    "```python\n",
    "# 예시)\n",
    "print(check_score(['a', 'a', 'b', 'b'], ['a', 'c', 'b', 'd']))\n",
    "print(check_score(['a', 'a', 'c', 'b'], ['a', 'a', 'b', '']))\n",
    "print(check_score(['a', 'a', 'b', 'c'], ['a', 'a', 'b', 'c']))\n",
    "print(check_score(['b', 'c', 'b', 'a'], ['', 'a', 'a', 'c'])\n",
    "\n",
    "6\n",
    "7\n",
    "16\n",
    "0\n",
    "```"
   ]
  },
  {
   "cell_type": "code",
   "execution_count": null,
   "metadata": {},
   "outputs": [],
   "source": [
    "# 여기에 코드를 작성하세요."
   ]
  },
  {
   "cell_type": "code",
   "execution_count": 204,
   "metadata": {},
   "outputs": [],
   "source": [
    "def check_score(list_1, list_2):\n",
    "    score = 0\n",
    "    for i in range(len(list_1)):\n",
    "        if list_1[i] == list_2[i]:\n",
    "            score += 4\n",
    "        elif list_2[i] == '':\n",
    "            score += 0\n",
    "        else:\n",
    "            score -= 1\n",
    "    if score < 0:\n",
    "        return 0\n",
    "    return score"
   ]
  },
  {
   "cell_type": "code",
   "execution_count": 205,
   "metadata": {},
   "outputs": [
    {
     "name": "stdout",
     "output_type": "stream",
     "text": [
      "6\n",
      "7\n",
      "16\n",
      "0\n"
     ]
    }
   ],
   "source": [
    "# 해당 코드를 통해 올바른 결과가 나오는지 확인하세요.\n",
    "print(check_score(['a', 'a', 'b', 'b'], ['a', 'c', 'b', 'd']))\n",
    "print(check_score(['a', 'a', 'c', 'b'], ['a', 'a', 'b', '']))\n",
    "print(check_score(['a', 'a', 'b', 'c'], ['a', 'a', 'b', 'c']))\n",
    "print(check_score(['b', 'c', 'b', 'a'], ['', 'a', 'a', 'c']))"
   ]
  }
 ],
 "metadata": {
  "kernelspec": {
   "display_name": "Python 3",
   "language": "python",
   "name": "python3"
  },
  "language_info": {
   "codemirror_mode": {
    "name": "ipython",
    "version": 3
   },
   "file_extension": ".py",
   "mimetype": "text/x-python",
   "name": "python",
   "nbconvert_exporter": "python",
   "pygments_lexer": "ipython3",
   "version": "3.7.3"
  },
  "latex_envs": {
   "LaTeX_envs_menu_present": true,
   "autoclose": false,
   "autocomplete": true,
   "bibliofile": "biblio.bib",
   "cite_by": "apalike",
   "current_citInitial": 1,
   "eqLabelWithNumbers": true,
   "eqNumInitial": 1,
   "hotkeys": {
    "equation": "Ctrl-E",
    "itemize": "Ctrl-I"
   },
   "labels_anchors": false,
   "latex_user_defs": false,
   "report_style_numbering": false,
   "user_envs_cfg": false
  },
  "toc": {
   "base_numbering": 1,
   "nav_menu": {},
   "number_sections": true,
   "sideBar": true,
   "skip_h1_title": false,
   "title_cell": "Table of Contents",
   "title_sidebar": "Contents",
   "toc_cell": false,
   "toc_position": {},
   "toc_section_display": true,
   "toc_window_display": false
  }
 },
 "nbformat": 4,
 "nbformat_minor": 2
}
